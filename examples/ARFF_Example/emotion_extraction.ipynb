{
 "cells": [
  {
   "cell_type": "code",
   "execution_count": 1,
   "metadata": {
    "scrolled": true
   },
   "outputs": [
    {
     "name": "stdout",
     "output_type": "stream",
     "text": [
      "AJAJA\n"
     ]
    },
    {
     "name": "stderr",
     "output_type": "stream",
     "text": [
      "Using TensorFlow backend.\n"
     ]
    }
   ],
   "source": [
    "from adlframework.retrievals.BlobLocalCache import BlobLocalCache\n",
    "from adlframework.datasource import DataSource\n",
    "from adlframework.dataentity.arff_de import ARFFDataEntity\n",
    "# from adlframework.dataentity.audio_de import AudioRecordingDataEntity\n",
    "from adlframework.experiment import SimpleExperiment\n",
    "from keras.losses import KLD, MAE\n",
    "from keras.optimizers import Adadelta, Adam\n",
    "from nets import dense_network\n",
    "import pdb\n",
    "import numpy as np\n",
    "from keras.callbacks import ModelCheckpoint"
   ]
  },
  {
   "cell_type": "markdown",
   "metadata": {},
   "source": [
    "### Custom Controllers/Filters"
   ]
  },
  {
   "cell_type": "code",
   "execution_count": 2,
   "metadata": {},
   "outputs": [],
   "source": [
    "def remove_wavs(entity):\n",
    "    '''\n",
    "    Filter out wav and extraneous files\n",
    "    '''\n",
    "    return entity.unique_id[-4:] == 'arff'\n",
    "\n",
    "def split_to_features(sample):\n",
    "    f, label = sample\n",
    "    data = np.array([x for x in f[1]][1:])\n",
    "    return data, label"
   ]
  },
  {
   "cell_type": "markdown",
   "metadata": {},
   "source": [
    "### Metadata"
   ]
  },
  {
   "cell_type": "code",
   "execution_count": 3,
   "metadata": {},
   "outputs": [
    {
     "name": "stdout",
     "output_type": "stream",
     "text": [
      "Retrieval not named, so won't be cached.\n",
      "Retrieval not named, so won't be cached.\n",
      "Retrieval not named, so won't be cached.\n"
     ]
    }
   ],
   "source": [
    "cache_path = 'local_cache/Segmented_AVEC/'\n",
    "train_retrieval = BlobLocalCache(cache_path+'wav/train', cache_path+'labels/train')\n",
    "val_retrieval = BlobLocalCache(cache_path+'wav/val', cache_path+'labels/val')\n",
    "test_retrieval = BlobLocalCache(cache_path+'wav/test', cache_path+'labels/test')\n",
    "epochs = 100\n",
    "max_mem = .3\n",
    "\n",
    "controllers = [split_to_features]\n",
    "prefilters = [remove_wavs]"
   ]
  },
  {
   "cell_type": "markdown",
   "metadata": {},
   "source": [
    "### Data Sources"
   ]
  },
  {
   "cell_type": "code",
   "execution_count": 4,
   "metadata": {},
   "outputs": [
    {
     "name": "stderr",
     "output_type": "stream",
     "text": [
      "100%|██████████| 209972/209972 [00:00<00:00, 1690665.77it/s]\n",
      "100%|██████████| 59992/59992 [00:00<00:00, 1677486.72it/s]\n",
      "100%|██████████| 29996/29996 [00:00<00:00, 1694487.97it/s]\n"
     ]
    }
   ],
   "source": [
    "## Creating and splitting datasets\n",
    "train_ds = DataSource(train_retrieval, ARFFDataEntity,\n",
    "\t\t\t\t\t\tignore_cache=True,\n",
    "\t\t\t\t\t\tbatch_size=30,\n",
    "\t\t\t\t\t\tverbosity=3,\n",
    "\t\t\t\t\t\tcontrollers=controllers,\n",
    "\t\t\t\t\t\tprefilters=prefilters,\n",
    "                        max_mem_percent=max_mem)\n",
    "\n",
    "val_ds = DataSource(val_retrieval, ARFFDataEntity,\n",
    "\t\t\t\t\t\tignore_cache=True,\n",
    "\t\t\t\t\t\tbatch_size=30,\n",
    "\t\t\t\t\t\tverbosity=3,\n",
    "\t\t\t\t\t\tcontrollers=controllers,\n",
    "\t\t\t\t\t\tprefilters=prefilters,\n",
    "                        max_mem_percent=max_mem)\n",
    "\n",
    "test_ds = DataSource(test_retrieval, ARFFDataEntity,\n",
    "\t\t\t\t\t\tignore_cache=True,\n",
    "\t\t\t\t\t\tbatch_size=30,\n",
    "\t\t\t\t\t\tverbosity=3,\n",
    "\t\t\t\t\t\tcontrollers=controllers,\n",
    "\t\t\t\t\t\tprefilters=prefilters,\n",
    "                        max_mem_percent=max_mem)"
   ]
  },
  {
   "cell_type": "code",
   "execution_count": 5,
   "metadata": {},
   "outputs": [],
   "source": [
    "### Callbacks\n",
    "callbacks = [ModelCheckpoint('weights/weights.{epoch:02d}-{val_loss:.2f}.hdf5')]"
   ]
  },
  {
   "cell_type": "code",
   "execution_count": 6,
   "metadata": {},
   "outputs": [],
   "source": [
    "### Network\n",
    "net = dense_network(input_shape=(989, ),\n",
    "\t\t\t\t\ttarget_shape=(3))"
   ]
  },
  {
   "cell_type": "markdown",
   "metadata": {},
   "source": [
    "### Experiment"
   ]
  },
  {
   "cell_type": "code",
   "execution_count": null,
   "metadata": {},
   "outputs": [],
   "source": [
    "exp = SimpleExperiment(train_datasource=train_ds,\n",
    "\t\t\t\t\t\tvalidation_datasource=val_ds,\n",
    "                       test_datasource=test_ds,\n",
    "\t\t\t\t\t\tloss=MAE,\n",
    "\t\t\t\t\t\toptimizer=Adadelta(),\n",
    "\t\t\t\t\t\tmetrics=['mae'],\n",
    "\t\t\t\t\t\tnetwork = net,\n",
    "\t\t\t\t\t\tcallbacks=callbacks,\n",
    "                        epochs=epochs,\n",
    "                      train_batch_steps=100)"
   ]
  },
  {
   "cell_type": "code",
   "execution_count": null,
   "metadata": {
    "scrolled": false
   },
   "outputs": [
    {
     "name": "stdout",
     "output_type": "stream",
     "text": [
      "Model Summary:\n",
      "_________________________________________________________________\n",
      "Layer (type)                 Output Shape              Param #   \n",
      "=================================================================\n",
      "dense_1 (Dense)              (None, 512)               506880    \n",
      "_________________________________________________________________\n",
      "dense_2 (Dense)              (None, 256)               131328    \n",
      "_________________________________________________________________\n",
      "dense_3 (Dense)              (None, 128)               32896     \n",
      "_________________________________________________________________\n",
      "dense_4 (Dense)              (None, 64)                8256      \n",
      "_________________________________________________________________\n",
      "dense_5 (Dense)              (None, 3)                 195       \n",
      "_________________________________________________________________\n",
      "audio_feature_extractor (Act (None, 3)                 0         \n",
      "=================================================================\n",
      "Total params: 679,555\n",
      "Trainable params: 679,555\n",
      "Non-trainable params: 0\n",
      "_________________________________________________________________\n",
      "None\n",
      "Epoch 1/100\n",
      "> <ipython-input-2-d4126cfcfb1d>(10)split_to_features()\n",
      "-> data = np.array([x for x in f[1]][1:])\n",
      "(Pdb) c\n",
      "> <ipython-input-2-d4126cfcfb1d>(10)split_to_features()\n",
      "-> data = np.array([x for x in f[1]][1:])\n"
     ]
    }
   ],
   "source": [
    "exp.run()"
   ]
  },
  {
   "cell_type": "code",
   "execution_count": null,
   "metadata": {},
   "outputs": [],
   "source": [
    "\n"
   ]
  }
 ],
 "metadata": {
  "kernelspec": {
   "display_name": "aut-venv",
   "language": "python",
   "name": "aut-venv"
  },
  "language_info": {
   "codemirror_mode": {
    "name": "ipython",
    "version": 2
   },
   "file_extension": ".py",
   "mimetype": "text/x-python",
   "name": "python",
   "nbconvert_exporter": "python",
   "pygments_lexer": "ipython2",
   "version": "2.7.12"
  }
 },
 "nbformat": 4,
 "nbformat_minor": 1
}
