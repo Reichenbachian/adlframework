{
 "cells": [
  {
   "cell_type": "code",
   "execution_count": 1,
   "metadata": {},
   "outputs": [
    {
     "name": "stdout",
     "output_type": "stream",
     "text": [
      "AJAJA\n"
     ]
    },
    {
     "name": "stderr",
     "output_type": "stream",
     "text": [
      "Using TensorFlow backend.\n"
     ]
    }
   ],
   "source": [
    "### ADLFRAMEWORK\n",
    "import adlframework\n",
    "from adlframework.retrievals.BlobLocalCache import BlobLocalCache\n",
    "from adlframework.datasource import DataSource\n",
    "from adlframework.dataentity.audio_de import AudioRecordingDataEntity\n",
    "from adlframework.experiment import SimpleExperiment\n",
    "from adlframework.processors.general_processors import reshape, to_np_arr\n",
    "from adlframework.filters.general_filters import min_array_shape\n",
    "### KERAS\n",
    "from keras.losses import KLD, MAE\n",
    "from keras.optimizers import Adadelta, Adam\n",
    "import keras.backend as K\n",
    "from keras.models import Sequential\n",
    "from keras.layers import *\n",
    "from keras.callbacks import ModelCheckpoint, TensorBoard\n",
    "### UTILS\n",
    "import pdb\n",
    "import numpy as np\n",
    "from functools import partial\n",
    "import tensorflow as tf\n",
    "from tqdm import tqdm_notebook as tqdm"
   ]
  },
  {
   "cell_type": "code",
   "execution_count": 2,
   "metadata": {},
   "outputs": [],
   "source": [
    "config = tf.ConfigProto()\n",
    "config.gpu_options.allow_growth=True\n",
    "tfsession = tf.Session(config=config)\n",
    "K.set_session(tfsession)"
   ]
  },
  {
   "cell_type": "code",
   "execution_count": 3,
   "metadata": {},
   "outputs": [],
   "source": [
    "### Hyperparameters\n",
    "input_window = 3 # seconds\n",
    "input_time = 3\n",
    "drop_out_prob = .2\n",
    "stride = 8\n",
    "padding = 'same'\n",
    "activation = 'relu'\n",
    "optimizer = 'adam'\n",
    "loss = 'KLD'\n",
    "epochs = 100\n",
    "steps_per_epoch = 10\n",
    "val_steps = 2\n",
    "\n",
    "\n",
    "workers = 7\n",
    "fs = 44100\n",
    "input_shape = (fs*input_window, 1)"
   ]
  },
  {
   "cell_type": "markdown",
   "metadata": {},
   "source": [
    "## DATA!"
   ]
  },
  {
   "cell_type": "code",
   "execution_count": 4,
   "metadata": {},
   "outputs": [],
   "source": [
    "controllers = [to_np_arr, partial(reshape, shape=(-1, 1)), partial(min_array_shape, min_shape=input_shape)]"
   ]
  },
  {
   "cell_type": "code",
   "execution_count": 5,
   "metadata": {},
   "outputs": [
    {
     "name": "stdout",
     "output_type": "stream",
     "text": [
      "Retrieval not named, so won't be cached.\n",
      "Retrieval not named, so won't be cached.\n"
     ]
    }
   ],
   "source": [
    "cache_path = 'local_cache/AVEC/'\n",
    "train_retrieval = BlobLocalCache(cache_path+'wav/train', cache_path+'labels/train')\n",
    "val_retrieval = BlobLocalCache(cache_path+'wav/dev', cache_path+'labels/dev')\n",
    "# test_retrieval = BlobLocalCache(cache_path+'wav/test', cache_path+'labels/test')\n",
    "epochs = 100\n",
    "max_mem = .5"
   ]
  },
  {
   "cell_type": "code",
   "execution_count": 6,
   "metadata": {},
   "outputs": [],
   "source": [
    "universal_args = {\n",
    "    'window_size': input_window,\n",
    "    'timestamp_column': 'Timestamps',\n",
    "    'sampling_method': 'linear_interpolation'\n",
    "}"
   ]
  },
  {
   "cell_type": "code",
   "execution_count": 7,
   "metadata": {},
   "outputs": [],
   "source": [
    "## Creating and splitting datasets\n",
    "train_ds = DataSource(train_retrieval, AudioRecordingDataEntity,\n",
    "\t\t\t\t\t\tignore_cache=True,\n",
    "\t\t\t\t\t\tbatch_size=30,\n",
    "\t\t\t\t\t\tverbosity=3,\n",
    "                        max_mem_percent=max_mem,\n",
    "                        workers=workers,\n",
    "                        controllers=controllers,\n",
    "                     **universal_args)\n",
    "\n",
    "val_ds = DataSource(val_retrieval, AudioRecordingDataEntity,\n",
    "\t\t\t\t\t\tignore_cache=True,\n",
    "\t\t\t\t\t\tbatch_size=30,\n",
    "\t\t\t\t\t\tverbosity=3,\n",
    "                        max_mem_percent=max_mem,\n",
    "                        workers=workers,\n",
    "                        controllers=controllers,\n",
    "                    **universal_args)\n",
    "\n",
    "# test_ds = DataSource(test_retrieval, AudioRecordingDataEntity,\n",
    "# \t\t\t\t\t\tignore_cache=True,\n",
    "# \t\t\t\t\t\tbatch_size=30,\n",
    "# \t\t\t\t\t\tverbosity=3,\n",
    "#                         max_mem_percent=max_mem,\n",
    "#                         workers=workers,\n",
    "#                         controllers=controllers,\n",
    "#                     **universal_args)"
   ]
  },
  {
   "cell_type": "code",
   "execution_count": 8,
   "metadata": {},
   "outputs": [],
   "source": [
    "### Callbacks\n",
    "callbacks = [ModelCheckpoint('weights/weights.{epoch:02d}-{val_loss:.2f}.hdf5'),\n",
    "            TensorBoard(log_dir='./Graph', histogram_freq=0, write_graph=True, write_images=True)]"
   ]
  },
  {
   "cell_type": "markdown",
   "metadata": {},
   "source": [
    "## Define Network"
   ]
  },
  {
   "cell_type": "code",
   "execution_count": 9,
   "metadata": {},
   "outputs": [],
   "source": [
    "model = Sequential()\n",
    "model.add(Conv1D(64, 128, strides=stride, padding=padding, input_shape=input_shape))\n",
    "model.add(BatchNormalization())\n",
    "model.add(Activation(activation))\n",
    "model.add(MaxPooling1D(pool_size=8))\n",
    "\n",
    "model.add(Conv1D(240, 64, strides=stride, padding=padding))\n",
    "model.add(BatchNormalization())\n",
    "model.add(Activation(activation))\n",
    "model.add(MaxPooling1D(pool_size=8))\n",
    "\n",
    "model.add(Dropout(rate=drop_out_prob))\n",
    "model.add(Conv1D(512, 32, strides=stride, padding=padding))\n",
    "model.add(BatchNormalization())\n",
    "model.add(Activation(activation))\n",
    "\n",
    "model.add(Dropout(rate=drop_out_prob))\n",
    "model.add(Conv1D(1024, 16, strides=stride, padding=padding))\n",
    "model.add(BatchNormalization())\n",
    "model.add(Activation(activation))\n",
    "\n",
    "model.add(Dropout(rate=drop_out_prob))\n",
    "model.add(Conv1D(512, 8, strides=stride, padding=padding))\n",
    "model.add(BatchNormalization())\n",
    "model.add(Activation(activation))\n",
    "\n",
    "model.add(Flatten())\n",
    "model.add(Dense(256, activation=activation))\n",
    "model.add(Dropout(rate=drop_out_prob))\n",
    "model.add(Dense(2, activation=activation, name='emotion_cnn_output'))"
   ]
  },
  {
   "cell_type": "code",
   "execution_count": 10,
   "metadata": {},
   "outputs": [],
   "source": [
    "model.compile(optimizer, loss)"
   ]
  },
  {
   "cell_type": "markdown",
   "metadata": {},
   "source": [
    "## Train!"
   ]
  },
  {
   "cell_type": "code",
   "execution_count": null,
   "metadata": {},
   "outputs": [
    {
     "name": "stdout",
     "output_type": "stream",
     "text": [
      "Epoch 1/100\n",
      "10/10 [==============================] - 124s - loss: -0.0355 - val_loss: -0.2761\n",
      "Epoch 2/100\n",
      "10/10 [==============================] - 124s - loss: -0.3338 - val_loss: -0.2380\n",
      "Epoch 3/100\n",
      " 6/10 [=================>............] - ETA: 61s - loss: -0.3783"
     ]
    }
   ],
   "source": [
    "model.fit_generator(train_ds,\n",
    "                    steps_per_epoch=steps_per_epoch,\n",
    "                    epochs=epochs,\n",
    "                    callbacks=callbacks,\n",
    "                    validation_data=val_ds,\n",
    "                    validation_steps=val_steps)"
   ]
  },
  {
   "cell_type": "code",
   "execution_count": null,
   "metadata": {},
   "outputs": [],
   "source": []
  }
 ],
 "metadata": {
  "kernelspec": {
   "display_name": "Python 2",
   "language": "python",
   "name": "python2"
  },
  "language_info": {
   "codemirror_mode": {
    "name": "ipython",
    "version": 2
   },
   "file_extension": ".py",
   "mimetype": "text/x-python",
   "name": "python",
   "nbconvert_exporter": "python",
   "pygments_lexer": "ipython2",
   "version": "2.7.12"
  }
 },
 "nbformat": 4,
 "nbformat_minor": 1
}
