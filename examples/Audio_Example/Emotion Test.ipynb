{
 "cells": [
  {
   "cell_type": "code",
   "execution_count": 8,
   "metadata": {},
   "outputs": [],
   "source": [
    "import adlframework\n",
    "reload(adlframework)\n",
    "from adlframework.retrievals.BlobLocalCache import BlobLocalCache\n",
    "from adlframework.datasource import DataSource\n",
    "from adlframework.dataentity.audio_de import AudioRecordingDataEntity\n",
    "from adlframework.experiment import SimpleExperiment\n",
    "from keras.losses import KLD, MAE\n",
    "from keras.optimizers import Adadelta, Adam\n",
    "# from nets import dense_network, deep_dense_network\n",
    "import pdb\n",
    "import numpy as np\n",
    "from keras.callbacks import ModelCheckpoint\n",
    "from functools import partial"
   ]
  },
  {
   "cell_type": "code",
   "execution_count": 9,
   "metadata": {},
   "outputs": [
    {
     "name": "stdout",
     "output_type": "stream",
     "text": [
      "Retrieval not named, so won't be cached.\n",
      "Retrieval not named, so won't be cached.\n",
      "Retrieval not named, so won't be cached.\n"
     ]
    }
   ],
   "source": [
    "cache_path = 'local_cache/AVEC/'\n",
    "train_retrieval = BlobLocalCache(cache_path+'wav/train', cache_path+'labels/train')\n",
    "val_retrieval = BlobLocalCache(cache_path+'wav/dev', cache_path+'labels/val')\n",
    "test_retrieval = BlobLocalCache(cache_path+'wav/test', cache_path+'labels/test')\n",
    "epochs = 100\n",
    "max_mem = .95"
   ]
  },
  {
   "cell_type": "code",
   "execution_count": 10,
   "metadata": {
    "collapsed": true
   },
   "outputs": [],
   "source": [
    "input_window = 3 # seconds\n",
    "universal_args = {\n",
    "    'window_size': input_window,\n",
    "    'timestamp_column': 'Timestamps',\n",
    "    'sampling_method': 'linear_interpolation'\n",
    "}"
   ]
  },
  {
   "cell_type": "code",
   "execution_count": 11,
   "metadata": {
    "collapsed": true
   },
   "outputs": [],
   "source": [
    "## Creating and splitting datasets\n",
    "train_ds = DataSource(train_retrieval, AudioRecordingDataEntity,\n",
    "\t\t\t\t\t\tignore_cache=True,\n",
    "\t\t\t\t\t\tbatch_size=30,\n",
    "\t\t\t\t\t\tverbosity=3,\n",
    "                        max_mem_percent=max_mem,\n",
    "                     **universal_args)\n",
    "\n",
    "val_ds = DataSource(val_retrieval, AudioRecordingDataEntity,\n",
    "\t\t\t\t\t\tignore_cache=True,\n",
    "\t\t\t\t\t\tbatch_size=30,\n",
    "\t\t\t\t\t\tverbosity=3,\n",
    "                        max_mem_percent=max_mem,\n",
    "                   **universal_args)\n",
    "\n",
    "test_ds = DataSource(test_retrieval, AudioRecordingDataEntity,\n",
    "\t\t\t\t\t\tignore_cache=True,\n",
    "\t\t\t\t\t\tbatch_size=30,\n",
    "\t\t\t\t\t\tverbosity=3,\n",
    "                        max_mem_percent=max_mem,\n",
    "                    **universal_args)"
   ]
  },
  {
   "cell_type": "code",
   "execution_count": 12,
   "metadata": {
    "collapsed": true
   },
   "outputs": [],
   "source": [
    "### Callbacks\n",
    "callbacks = [ModelCheckpoint('weights/weights.{epoch:02d}-{val_loss:.2f}.hdf5')]"
   ]
  },
  {
   "cell_type": "code",
   "execution_count": 13,
   "metadata": {
    "collapsed": true
   },
   "outputs": [],
   "source": [
    "a = train_ds.next()"
   ]
  },
  {
   "cell_type": "markdown",
   "metadata": {},
   "source": [
    "# Net"
   ]
  },
  {
   "cell_type": "code",
   "execution_count": null,
   "metadata": {
    "collapsed": true
   },
   "outputs": [],
   "source": []
  },
  {
   "cell_type": "markdown",
   "metadata": {},
   "source": [
    "## Train"
   ]
  },
  {
   "cell_type": "code",
   "execution_count": 14,
   "metadata": {},
   "outputs": [
    {
     "ename": "NameError",
     "evalue": "name 'model' is not defined",
     "output_type": "error",
     "traceback": [
      "\u001b[0;31m---------------------------------------------------------------------------\u001b[0m",
      "\u001b[0;31mNameError\u001b[0m                                 Traceback (most recent call last)",
      "\u001b[0;32m<ipython-input-14-50d751ff6e11>\u001b[0m in \u001b[0;36m<module>\u001b[0;34m()\u001b[0m\n\u001b[1;32m      2\u001b[0m \u001b[0;32mfor\u001b[0m \u001b[0m_\u001b[0m \u001b[0;32min\u001b[0m \u001b[0mrange\u001b[0m\u001b[0;34m(\u001b[0m\u001b[0mepochs\u001b[0m\u001b[0;34m)\u001b[0m\u001b[0;34m:\u001b[0m\u001b[0;34m\u001b[0m\u001b[0m\n\u001b[1;32m      3\u001b[0m     \u001b[0mbatch\u001b[0m \u001b[0;34m=\u001b[0m \u001b[0mtrain_ds\u001b[0m\u001b[0;34m.\u001b[0m\u001b[0mnext\u001b[0m\u001b[0;34m(\u001b[0m\u001b[0;34m)\u001b[0m\u001b[0;34m\u001b[0m\u001b[0m\n\u001b[0;32m----> 4\u001b[0;31m     \u001b[0mmodel\u001b[0m\u001b[0;34m.\u001b[0m\u001b[0mtrain_on_batch\u001b[0m\u001b[0;34m(\u001b[0m\u001b[0;34m*\u001b[0m\u001b[0mbatch\u001b[0m\u001b[0;34m)\u001b[0m\u001b[0;34m\u001b[0m\u001b[0m\n\u001b[0m",
      "\u001b[0;31mNameError\u001b[0m: name 'model' is not defined"
     ]
    }
   ],
   "source": [
    "batch = None\n",
    "for _ in range(epochs):\n",
    "    batch = train_ds.next()\n",
    "    model.train_on_batch(*batch)"
   ]
  },
  {
   "cell_type": "code",
   "execution_count": null,
   "metadata": {
    "collapsed": true
   },
   "outputs": [],
   "source": []
  }
 ],
 "metadata": {
  "kernelspec": {
   "display_name": "aut-env",
   "language": "python",
   "name": "aut-env"
  },
  "language_info": {
   "codemirror_mode": {
    "name": "ipython",
    "version": 2
   },
   "file_extension": ".py",
   "mimetype": "text/x-python",
   "name": "python",
   "nbconvert_exporter": "python",
   "pygments_lexer": "ipython2",
   "version": "2.7.10"
  }
 },
 "nbformat": 4,
 "nbformat_minor": 2
}
